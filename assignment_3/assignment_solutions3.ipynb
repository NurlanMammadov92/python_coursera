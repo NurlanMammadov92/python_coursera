{
 "cells": [
  {
   "cell_type": "code",
   "execution_count": null,
   "metadata": {},
   "outputs": [],
   "source": [
    "def answer_one():\n",
    "    import pandas as pd\n",
    "    import numpy as np\n",
    "    energy = pd.read_excel('C:/Users/nurik/Desktop/data science/python/Energy indicators.xls')\n",
    "    energy = energy.iloc[17:244]\n",
    "    energy = energy[['Unnamed: 2', 'Unnamed: 3', 'Unnamed: 4', 'Unnamed: 5']]\n",
    "    energy.columns=['Country', 'Energy Supply', 'Energy Supply per Capita', '% Renewable']\n",
    "    energy[['Energy Supply', 'Energy Supply per Capita', '% Renewable']] =  energy[['Energy Supply', 'Energy Supply per Capita', '% Renewable']].replace('...',np.NaN)\n",
    "    energy['Country']=energy['Country'].replace({'China2': 'China',\n",
    "                                            'China, Hong Kong Special Administrative Region3': 'Hong Kong',\n",
    "                                            'China, Macao Special Administrative Region4': 'Macao'})\n",
    "    energy['Country']=energy['Country'].replace({'United Kingdom of Great Britain and Northern Ireland': 'United Kingdom',\n",
    "                                             'Republic of Korea': 'South Korea',\n",
    "                                             'United States of America': 'United States',\n",
    "                                             'Iran (Islamic Republic of)': 'Iran'})\n",
    "    energy['Country'] = energy['Country'].str.extract('(^[a-zA-Z\\s]+)', expand=False)\n",
    "    energy['Energy Supply']=energy['Energy Supply']*1000000\n",
    "    GDP=pd.read_csv('C:/Users/nurik/Desktop/data science/python/world_bank.csv', skiprows=4)\n",
    "    GDP['Country Name']=GDP['Country Name'].replace('Korea, Rep.', 'South Korea')\n",
    "    GDP['Country Name']=GDP['Country Name'].replace('Iran, Islamic Rep.', 'Iran')\n",
    "    GDP['Country Name']=GDP['Country Name'].replace('Hong Kong SAR, China', 'Hong Kong')\n",
    "    GDP=GDP[['Country Name', '2006', '2007', '2008', '2009', '2010', '2011', '2012', '2013', '2014', '2015']]\n",
    "    GDP.columns=['Country', '2006', '2007', '2008', '2009', '2010', '2011', '2012', '2013', '2014', '2015']\n",
    "    ScimEn=pd.read_excel('C:/Users/nurik/Desktop/data science/python/scimagojr.xlsx')\n",
    "    ScimEn=ScimEn[:15]\n",
    "    df=pd.merge(ScimEn, energy, how='inner', left_on='Country', right_on='Country')\n",
    "    final_df=pd.merge(df, GDP, how='inner', left_on='Country', right_on='Country')\n",
    "    final_df=final_df.set_index('Country')\n",
    "    return final_df\n",
    "answer_one()"
   ]
  },
  {
   "cell_type": "code",
   "execution_count": null,
   "metadata": {},
   "outputs": [],
   "source": [
    "def answer_two():\n",
    "    import pandas as pd\n",
    "    import numpy as np\n",
    "    x = pd.ExcelFile('Energy Indicators.xls')\n",
    "    energy = x.parse(skiprows=17,skip_footer=(38))\n",
    "    energy = energy[['Unnamed: 1','Petajoules','Gigajoules','%']]\n",
    "    energy.columns = ['Country', 'Energy Supply', 'Energy Supply per Capita', '% Renewable']\n",
    "    energy[['Energy Supply', 'Energy Supply per Capita', '% Renewable']] =  energy[['Energy Supply', 'Energy Supply per Capita', '% Renewable']].replace('...',np.NaN).apply(pd.to_numeric)\n",
    "    energy['Energy Supply'] = energy['Energy Supply']*1000000\n",
    "    GDP = pd.read_csv('world_bank.csv',skiprows=4)\n",
    "    GDP = GDP[['Country Name','2006','2007','2008','2009','2010','2011','2012','2013','2014','2015']]\n",
    "    GDP.columns = ['Country','2006','2007','2008','2009','2010','2011','2012','2013','2014','2015']\n",
    "    ScimEn = pd.read_excel(io='scimagojr-3.xlsx')\n",
    "    ScimEn_m = ScimEn[:15]\n",
    "    merge1 = pd.merge(energy, GDP, how='inner', left_on='Country', right_on='Country')\n",
    "    merge2=pd.merge(energy, ScimEn, how='inner', left_on='Country', right_on='Country')\n",
    "    merge3=pd.merge(GDP, ScimEn, how='inner', left_on='Country', right_on='Country')\n",
    "    intersection=pd.merge(merge1, ScimEn, how='inner', left_on='Country', right_on='Country')\n",
    "    length_energy=len(energy.index)\n",
    "    length_GDP=len(GDP.index)\n",
    "    length_scimen=len(ScimEn.index)\n",
    "    top=len(merge1.index)\n",
    "    left=len(merge2.index)\n",
    "    right=len(merge3.index)\n",
    "    all_dataset=len(intersection.index)\n",
    "    answer = length_energy + length_GDP + length_scimen - top - left - right\n",
    "    return all_dataset\n",
    "answer_two()"
   ]
  },
  {
   "cell_type": "code",
   "execution_count": null,
   "metadata": {},
   "outputs": [],
   "source": [
    "def avg(row):\n",
    "    import numpy as np\n",
    "    data = row[['2006', '2007', '2008', '2009', '2010', '2011', '2012', '2013', '2014', '2015']].dropna()\n",
    "    return np.average(data)\n",
    "\n",
    "def answer_three():\n",
    "    Top15 = answer_one()\n",
    "    avgGDP = Top15.apply(avg, axis = 1)\n",
    "    avgGDP = avgGDP.sort_values(ascending = False)\n",
    "    return avgGDP\n",
    "answer_three()"
   ]
  },
  {
   "cell_type": "code",
   "execution_count": null,
   "metadata": {},
   "outputs": [],
   "source": [
    "def answer_four():\n",
    "    Top15 = answer_one()\n",
    "    avgGDP = answer_three()\n",
    "    country = avgGDP.index[5]\n",
    "    ans = Top15.loc[country, '2015'] - Top15.loc[country, '2006']\n",
    "    return ans\n",
    "answer_four()"
   ]
  },
  {
   "cell_type": "code",
   "execution_count": null,
   "metadata": {},
   "outputs": [],
   "source": [
    "def answer_five():\n",
    "    import numpy as np\n",
    "    Top15 = answer_one()\n",
    "    avg = np.average(Top15['Energy Supply per Capita'])\n",
    "    return float(avg)\n",
    "answer_five()"
   ]
  },
  {
   "cell_type": "code",
   "execution_count": null,
   "metadata": {},
   "outputs": [],
   "source": [
    "def answer_six():\n",
    "    Top15 = answer_one()\n",
    "    country = Top15['% Renewable'].idxmax()\n",
    "    max_value = float(max(Top15['% Renewable']))\n",
    "    ans = country, max_value\n",
    "    return ans\n",
    "answer_six()"
   ]
  },
  {
   "cell_type": "code",
   "execution_count": null,
   "metadata": {},
   "outputs": [],
   "source": [
    "def ratio(row):\n",
    "    row['ratio'] = row['Self-citations'] / row['Citations']\n",
    "    return row\n",
    "def answer_seven():\n",
    "    Top15 = answer_one()\n",
    "    new_df = Top15.apply(ratio, axis =1)\n",
    "    max_value = float(max(new_df['ratio']))\n",
    "    country = new_df['ratio'].idxmax()\n",
    "    ans = country, max_value\n",
    "    return ans\n",
    "answer_seven()"
   ]
  },
  {
   "cell_type": "code",
   "execution_count": null,
   "metadata": {},
   "outputs": [],
   "source": [
    "def answer_eight():\n",
    "    Top15 = answer_one()\n",
    "    new_df = Top15.apply(lambda x: x['Energy Supply'] / x['Energy Supply per Capita'], axis=1)\n",
    "    new_df = new_df.sort_values(ascending=False)\n",
    "    country = new_df.index[2]\n",
    "    return country\n",
    "answer_eight()"
   ]
  },
  {
   "cell_type": "code",
   "execution_count": null,
   "metadata": {},
   "outputs": [],
   "source": [
    "def answer_nine():\n",
    "    Top15 = answer_one().copy()\n",
    "    Top15['PopEst'] = Top15['Energy Supply'] / Top15['Energy Supply per Capita']\n",
    "    Top15['Citable docs per Capita'] = Top15['Citable documents'] / Top15['PopEst']\n",
    "    Top15 = Top15.corr(method='pearson')\n",
    "    ans = Top15.loc['Energy Supply per Capita']['Citable docs per Capita']\n",
    "    return ans\n",
    "answer_nine()"
   ]
  },
  {
   "cell_type": "code",
   "execution_count": null,
   "metadata": {},
   "outputs": [],
   "source": [
    "def plot9():\n",
    "    import matplotlib as plt\n",
    "    %matplotlib inline\n",
    "    \n",
    "    Top15 = answer_one()\n",
    "    Top15['PopEst'] = Top15['Energy Supply'] / Top15['Energy Supply per Capita']\n",
    "    Top15['Citable docs per Capita'] = Top15['Citable documents'] / Top15['PopEst']\n",
    "    Top15.plot(x='Citable docs per Capita', y='Energy Supply per Capita', kind='scatter', xlim=[0, 0.0006])\n",
    "    \n",
    "plot9()"
   ]
  },
  {
   "cell_type": "code",
   "execution_count": null,
   "metadata": {},
   "outputs": [],
   "source": [
    "def answer_ten():\n",
    "    Top15 = answer_one()\n",
    "    import numpy as np\n",
    "    median = np.median(Top15['% Renewable'])\n",
    "    Top15['HighRenew']=0\n",
    "    for i in range(len(Top15)):\n",
    "        if Top15['% Renewable'][i] >= median:\n",
    "            Top15['HighRenew'][i] = 1\n",
    "        else:\n",
    "            Top15['HighRenew'][i]= 0\n",
    "            \n",
    "    return Top15['HighRenew'].sort_values(inplace=False)\n",
    "answer_ten()"
   ]
  },
  {
   "cell_type": "code",
   "execution_count": null,
   "metadata": {},
   "outputs": [],
   "source": [
    "ContinentDict  = {'China':'Asia', \n",
    "                  'United States':'North America', \n",
    "                  'Japan':'Asia', \n",
    "                  'United Kingdom':'Europe', \n",
    "                  'Russian Federation':'Europe', \n",
    "                  'Canada':'North America', \n",
    "                  'Germany':'Europe', \n",
    "                  'India':'Asia',\n",
    "                  'France':'Europe', \n",
    "                  'South Korea':'Asia', \n",
    "                  'Italy':'Europe', \n",
    "                  'Spain':'Europe', \n",
    "                  'Iran':'Asia',\n",
    "                  'Australia':'Australia', \n",
    "                  'Brazil':'South America'}\n",
    "def answer_eleven():\n",
    "    Top15 = answer_one()\n",
    "    Top15['Pop Est'] = Top15['Energy Supply'] / Top15['Energy Supply per Capita']\n",
    "    import numpy as np\n",
    "    Top15['Continent'] = ''\n",
    "    for i in range(len(Top15)):\n",
    "        Top15['Continent'][i] = ContinentDict[Top15.index[i]]\n",
    "    Top15 = Top15.groupby(['Continent'])['Pop Est'].agg({'size': np.size, 'sum': np.sum, 'mean': np.average, 'std':np.std})\n",
    "    return Top15\n",
    "answer_eleven()"
   ]
  },
  {
   "cell_type": "code",
   "execution_count": null,
   "metadata": {},
   "outputs": [],
   "source": [
    "def answer_twelve():\n",
    "    import numpy as np\n",
    "    import pandas as pd\n",
    "    Top15 = answer_one()\n",
    "    get_bins = pd.cut(Top15['% Renewable'], 5)\n",
    "    Top15['% Renewable'] = get_bins\n",
    "    Top15['Pop Est'] = Top15['Energy Supply'] / Top15['Energy Supply per Capita']\n",
    "    Top15['Continent'] = ''\n",
    "    for i in range(len(Top15)):\n",
    "        Top15['Continent'][i] = ContinentDict[Top15.index[i]]\n",
    "    Top15 = Top15.groupby(['Continent', '% Renewable'])['% Renewable'].agg({'size':np.size})\n",
    "    return Top15\n",
    "answer_twelve()"
   ]
  },
  {
   "cell_type": "code",
   "execution_count": null,
   "metadata": {},
   "outputs": [],
   "source": [
    "def answer_thirteen():\n",
    "    Top15 = answer_one()\n",
    "    Top15['Pop Est'] = Top15['Energy Supply'] / Top15['Energy Supply per Capita']\n",
    "    Top15 = Top15['Pop Est']\n",
    "    for i in range(len(Top15)):\n",
    "        number = '{:,}'.format(Top15.iloc[i])\n",
    "        Top15.replace(Top15.iloc[i], number, inplace = True)\n",
    "        \n",
    "    return Top15\n",
    "answer_thirteen()"
   ]
  }
 ],
 "metadata": {
  "kernelspec": {
   "display_name": "Python 3",
   "language": "python",
   "name": "python3"
  },
  "language_info": {
   "codemirror_mode": {
    "name": "ipython",
    "version": 3
   },
   "file_extension": ".py",
   "mimetype": "text/x-python",
   "name": "python",
   "nbconvert_exporter": "python",
   "pygments_lexer": "ipython3",
   "version": "3.7.3"
  }
 },
 "nbformat": 4,
 "nbformat_minor": 2
}
