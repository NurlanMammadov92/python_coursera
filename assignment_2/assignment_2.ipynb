{
 "cells": [
  {
   "cell_type": "code",
   "execution_count": null,
   "metadata": {},
   "outputs": [],
   "source": [
    "import pandas as pd\n",
    "\n",
    "df = pd.read_csv('olympics.csv', index_col=0, skiprows=1) # Change the directory as appropriate\n",
    "\n",
    "for col in df.columns:\n",
    "    if col[:2]=='01':\n",
    "        df.rename(columns={col:'Gold'+col[4:]}, inplace=True)\n",
    "    if col[:2]=='02':\n",
    "        df.rename(columns={col:'Silver'+col[4:]}, inplace=True)\n",
    "    if col[:2]=='03':\n",
    "        df.rename(columns={col:'Bronze'+col[4:]}, inplace=True)\n",
    "    if col[:1]=='№':\n",
    "        df.rename(columns={col:'#'+col[1:]}, inplace=True)\n",
    "\n",
    "names_ids = df.index.str.split('\\s\\(') # split the index by '('\n",
    "\n",
    "df.index = names_ids.str[0] # the [0] element is the country name (new index) \n",
    "df['ID'] = names_ids.str[1].str[:3] # the [1] element is the abbreviation or ID (take first 3 characters from that)\n",
    "\n",
    "df = df.drop('Totals')\n",
    "df.head()"
   ]
  },
  {
   "cell_type": "code",
   "execution_count": null,
   "metadata": {},
   "outputs": [],
   "source": [
    "def answer_zero():\n",
    "    return df.iloc[0]\n",
    "answer_zero(df)"
   ]
  },
  {
   "cell_type": "code",
   "execution_count": null,
   "metadata": {},
   "outputs": [],
   "source": [
    "def answer_one():\n",
    "        for country in df.index:\n",
    "            if df.loc[country]['Gold'] == max(df['Gold']):\n",
    "                return country\n",
    "answer_one()"
   ]
  },
  {
   "cell_type": "code",
   "execution_count": null,
   "metadata": {},
   "outputs": [],
   "source": [
    "def answer_two():\n",
    "    gold_dif = []\n",
    "    \n",
    "    for country in df.index:\n",
    "        gold_dif.append(df.loc[country]['Gold']-df.loc[country]['Gold.1'])\n",
    "    gold_dif_df = pd.DataFrame({'countries': df.index, 'gold_medal_dif': gold_dif}, index=df.index)\n",
    "    return gold_dif_df.loc[:]['gold_medal_dif'].idxmax(1)\n",
    "answer_two()"
   ]
  },
  {
   "cell_type": "code",
   "execution_count": null,
   "metadata": {},
   "outputs": [],
   "source": [
    "def answer_three():\n",
    "    gold_dif = []\n",
    "    total_gold_med = []\n",
    "    for country in df.index:\n",
    "        if df.loc[country]['Gold'] > 0 and df.loc[country]['Gold.1'] > 0:\n",
    "            gold_dif.append(df.loc[country]['Gold']-df.loc[country]['Gold.1'])\n",
    "            total_gold_med.append(df.loc[country]['Gold']+df.loc[country]['Gold.1'])\n",
    "            ratio_gold = [x / y for x,y in zip(gold_dif, total_gold_med)]\n",
    "            pos_ratio_gold = [abs(number) for number in ratio_gold]\n",
    "    gold_df = pd.DataFrame({'gold_medal_dif': gold_dif, \n",
    "                             'Total_medal': total_gold_med, 'Ratio': pos_ratio_gold}, \n",
    "                           index = [country for country in df.index if df.loc[country]['Gold'] > 0 and \n",
    "                             df.loc[country]['Gold.1'] > 0])\n",
    "    return gold_df.loc[:]['Ratio'].idxmax(1)\n",
    "answer_three()"
   ]
  },
  {
   "cell_type": "code",
   "execution_count": null,
   "metadata": {},
   "outputs": [],
   "source": [
    "def answer_four():\n",
    "    counts=[]\n",
    "    count_it=0\n",
    "    for country in df.index:\n",
    "        count_it=0\n",
    "        if df.loc[country]['Gold.2'] > 0:\n",
    "            count_it = 3 * df.loc[country]['Gold.2']\n",
    "        else:\n",
    "            count_it = 0\n",
    "        if df.loc[country]['Silver.2'] > 0:\n",
    "            count_it = count_it + (2 * df.loc[country]['Silver.2'])\n",
    "        else:\n",
    "            count_it = 0\n",
    "        if df.loc[country]['Bronze.2'] > 0:\n",
    "            count_it = count_it + (df.loc[country]['Bronze.2'])\n",
    "        else:\n",
    "            count_it = 0\n",
    "        counts.append(count_it)   \n",
    "    Points_df = pd.DataFrame({'Points': counts}, index= df.index)\n",
    "    return Points_df\n",
    "answer_four()"
   ]
  },
  {
   "cell_type": "code",
   "execution_count": null,
   "metadata": {},
   "outputs": [],
   "source": [
    "def answer_five():\n",
    "    census_df = pd.read_csv('census.csv', encoding = 'ISO-8859-1') # Change the directory as appropriate\n",
    "    census_df = census_df.set_index('STNAME')\n",
    "    sum_across_state = census_df.sum(level=0)\n",
    "    sum_counties = census_df.sum(level=0)['COUNTY']\n",
    "    return sum_counties.idxmax()\n",
    "answer_five()"
   ]
  },
  {
   "cell_type": "code",
   "execution_count": null,
   "metadata": {},
   "outputs": [],
   "source": [
    "def answer_six():\n",
    "    df = census_df[census_df['SUMLEV'] == 50]\n",
    "    df1 = census_df.sort_values(['STNAME','CENSUS2010POP'],ascending=False).groupby('STNAME').head(3).copy()\n",
    "    df2 = df1.reset_index().groupby(\"STNAME\").sum().sort_values(['CENSUS2010POP'],ascending=False).head(3).copy()\n",
    "    return list(df2.index.values)\n",
    "answer_six()"
   ]
  },
  {
   "cell_type": "code",
   "execution_count": null,
   "metadata": {},
   "outputs": [],
   "source": [
    "def answer_seven():\n",
    "    df = census_df[census_df['SUMLEV'] == 50]\n",
    "    df['STDEV'] = df[['POPESTIMATE2010', 'POPESTIMATE2011', 'POPESTIMATE2012',\n",
    "                     'POPESTIMATE2013', 'POPESTIMATE2014', 'POPESTIMATE2015']].std(axis=1)\n",
    "    return df.loc[df['STDEV'].idxmax()]['CTYNAME']\n",
    "answer_seven()"
   ]
  },
  {
   "cell_type": "code",
   "execution_count": null,
   "metadata": {},
   "outputs": [],
   "source": [
    "def answer_eight():\n",
    "    df=census_df[census_df['SUMLEV'] == 50]\n",
    "    region1 = df['REGION'] == 1\n",
    "    region2 = df['REGION'] == 2\n",
    "    county_name = df['CTYNAME'].str.startswith('Washington')\n",
    "    pop_estim = df['POPESTIMATE2015'] > df['POPESTIMATE2014']\n",
    "    df = df[(region2|region1)&county_name&pop_estim]\n",
    "    return df[['STNAME', 'CTYNAME']]\n",
    "answer_eight()"
   ]
  }
 ],
 "metadata": {
  "kernelspec": {
   "display_name": "Python 3",
   "language": "python",
   "name": "python3"
  },
  "language_info": {
   "codemirror_mode": {
    "name": "ipython",
    "version": 3
   },
   "file_extension": ".py",
   "mimetype": "text/x-python",
   "name": "python",
   "nbconvert_exporter": "python",
   "pygments_lexer": "ipython3",
   "version": "3.7.3"
  }
 },
 "nbformat": 4,
 "nbformat_minor": 2
}
