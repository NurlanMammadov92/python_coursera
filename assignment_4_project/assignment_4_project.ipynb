{
 "cells": [
  {
   "cell_type": "code",
   "execution_count": null,
   "metadata": {},
   "outputs": [],
   "source": [
    "import pandas as pd\n",
    "import numpy as np\n",
    "from scipy.stats import ttest_ind"
   ]
  },
  {
   "cell_type": "code",
   "execution_count": null,
   "metadata": {},
   "outputs": [],
   "source": [
    "# Use this dictionary to map state names to two letter acronyms\n",
    "states = {'OH': 'Ohio', 'KY': 'Kentucky', 'AS': 'American Samoa', 'NV': 'Nevada', 'WY': 'Wyoming', 'NA': 'National', 'AL': 'Alabama', 'MD': 'Maryland', 'AK': 'Alaska', 'UT': 'Utah', 'OR': 'Oregon', 'MT': 'Montana', 'IL': 'Illinois', 'TN': 'Tennessee', 'DC': 'District of Columbia', 'VT': 'Vermont', 'ID': 'Idaho', 'AR': 'Arkansas', 'ME': 'Maine', 'WA': 'Washington', 'HI': 'Hawaii', 'WI': 'Wisconsin', 'MI': 'Michigan', 'IN': 'Indiana', 'NJ': 'New Jersey', 'AZ': 'Arizona', 'GU': 'Guam', 'MS': 'Mississippi', 'PR': 'Puerto Rico', 'NC': 'North Carolina', 'TX': 'Texas', 'SD': 'South Dakota', 'MP': 'Northern Mariana Islands', 'IA': 'Iowa', 'MO': 'Missouri', 'CT': 'Connecticut', 'WV': 'West Virginia', 'SC': 'South Carolina', 'LA': 'Louisiana', 'KS': 'Kansas', 'NY': 'New York', 'NE': 'Nebraska', 'OK': 'Oklahoma', 'FL': 'Florida', 'CA': 'California', 'CO': 'Colorado', 'PA': 'Pennsylvania', 'DE': 'Delaware', 'NM': 'New Mexico', 'RI': 'Rhode Island', 'MN': 'Minnesota', 'VI': 'Virgin Islands', 'NH': 'New Hampshire', 'MA': 'Massachusetts', 'GA': 'Georgia', 'ND': 'North Dakota', 'VA': 'Virginia'}"
   ]
  },
  {
   "cell_type": "code",
   "execution_count": null,
   "metadata": {},
   "outputs": [],
   "source": [
    "def get_list_of_university_towns():\n",
    "    df = pd.DataFrame([], columns=['State', 'RegionName'])\n",
    "    with open('university_towns.txt', 'r') as f:\n",
    "        state = \"\"\n",
    "        for line in f:\n",
    "            if '[edit]' in line:\n",
    "                state = line[:line.find('[')].strip()\n",
    "                continue\n",
    "            region = line.strip()\n",
    "            if '(' in region:\n",
    "                region = region[:(region.find('(') - 1)]\n",
    "            df = df.append(pd.DataFrame([[state, region]], columns=['State', 'RegionName']), ignore_index=True)\n",
    "    return df\n",
    "get_list_of_university_towns()"
   ]
  },
  {
   "cell_type": "code",
   "execution_count": null,
   "metadata": {},
   "outputs": [],
   "source": [
    "def get_recession_start():\n",
    "    GDP_lev = pd.read_excel('gdplev.xls', header = None, skiprows=2,\n",
    "                       usecols=[0, 1, 2, 4, 5, 6])\n",
    "    GDP_lev.columns = ['Annual', 'GDP in billions of current dollars', 'GDP in billions of chained 2009 dollars',\n",
    "                  'Quarterly', 'GDP in billions of current dollars_q', 'GDP in billions of chained 2009 dollars_q']\n",
    "    GDP_lev = GDP_lev.iloc[6:]\n",
    "    GDP_lev = GDP_lev[(GDP_lev.index[GDP_lev['Quarterly']=='2000q1'].tolist()[0]-6):]\n",
    "    GDP_lev[(GDP_lev['Quarterly']>='2008q3') & (GDP_lev['Quarterly']<='2009q1')]\n",
    "    for i in range(len(GDP_lev)-1):\n",
    "        if GDP_lev['GDP in billions of chained 2009 dollars_q'].iloc[i] > GDP_lev['GDP in billions of chained 2009 dollars_q'].iloc[i+1] and GDP_lev['GDP in billions of chained 2009 dollars_q'].iloc[i+1] > GDP_lev['GDP in billions of chained 2009 dollars_q'].iloc[i+2]:\n",
    "            return GDP_lev['Quarterly'].iloc[i+1]\n",
    "get_recession_start()"
   ]
  },
  {
   "cell_type": "code",
   "execution_count": null,
   "metadata": {},
   "outputs": [],
   "source": [
    "def get_recession_end():\n",
    "    GDP_lev = pd.read_excel('gdplev.xls', header = None, skiprows=2,\n",
    "                       usecols=[0, 1, 2, 4, 5, 6])\n",
    "    GDP_lev.columns = ['Annual', 'GDP in billions of current dollars', 'GDP in billions of chained 2009 dollars',\n",
    "                  'Quarterly', 'GDP in billions of current dollars_q', 'GDP in billions of chained 2009 dollars_q']\n",
    "    GDP_lev = GDP_lev.iloc[6:]\n",
    "    GDP_lev = GDP_lev[(GDP_lev.index[GDP_lev['Quarterly']=='2000q1'].tolist()[0]-6):]\n",
    "    GDP_lev[(GDP_lev['Quarterly']>='2008q3') & (GDP_lev['Quarterly']<='2009q1')]\n",
    "    for i in range(len(GDP_lev)):\n",
    "        if GDP_lev['GDP in billions of chained 2009 dollars_q'].iloc[i] > GDP_lev['GDP in billions of chained 2009 dollars_q'].iloc[i+1] and GDP_lev['GDP in billions of chained 2009 dollars_q'].iloc[i+1] > GDP_lev['GDP in billions of chained 2009 dollars_q'].iloc[i+2]:\n",
    "            if GDP_lev['GDP in billions of chained 2009 dollars_q'].iloc[i+3] > GDP_lev['GDP in billions of chained 2009 dollars_q'].iloc[i+2] and GDP_lev['GDP in billions of chained 2009 dollars_q'].iloc[i+4] > GDP_lev['GDP in billions of chained 2009 dollars_q'].iloc[i+3]:\n",
    "                return GDP_lev['Quarterly'].iloc[i+4]\n",
    "get_recession_end()"
   ]
  },
  {
   "cell_type": "code",
   "execution_count": null,
   "metadata": {},
   "outputs": [],
   "source": [
    "def get_recession_bottom():\n",
    "    GDP_lev = pd.read_excel('gdplev.xls', header = None, skiprows=2,\n",
    "                       usecols=[0, 1, 2, 4, 5, 6])\n",
    "    GDP_lev.columns = ['Annual', 'GDP in billions of current dollars', 'GDP in billions of chained 2009 dollars',\n",
    "                  'Quarterly', 'GDP in billions of current dollars_q', 'GDP in billions of chained 2009 dollars_q']\n",
    "    GDP_lev = GDP_lev.iloc[6:]\n",
    "    GDP_lev = GDP_lev[(GDP_lev.index[GDP_lev['Quarterly']=='2000q1'].tolist()[0]-6):]\n",
    "    GDP_lev[(GDP_lev['Quarterly']>='2008q3') & (GDP_lev['Quarterly']<='2009q1')]\n",
    "    for i in range(len(GDP_lev)):\n",
    "        if GDP_lev['GDP in billions of chained 2009 dollars_q'].iloc[i] > GDP_lev['GDP in billions of chained 2009 dollars_q'].iloc[i+1] and GDP_lev['GDP in billions of chained 2009 dollars_q'].iloc[i+1] > GDP_lev['GDP in billions of chained 2009 dollars_q'].iloc[i+2]:\n",
    "            if GDP_lev['GDP in billions of chained 2009 dollars_q'].iloc[i+3] > GDP_lev['GDP in billions of chained 2009 dollars_q'].iloc[i+2] and GDP_lev['GDP in billions of chained 2009 dollars_q'].iloc[i+4] > GDP_lev['GDP in billions of chained 2009 dollars_q'].iloc[i+3]:\n",
    "                return GDP_lev['Quarterly'].iloc[i+2]\n",
    "get_recession_bottom()"
   ]
  },
  {
   "cell_type": "code",
   "execution_count": null,
   "metadata": {},
   "outputs": [],
   "source": [
    "def convert_housing_data_to_quarters():\n",
    "    import numpy as np\n",
    "    import pandas as pd\n",
    "    # Use this dictionary to map state names to two letter acronyms\n",
    "    states = {'OH': 'Ohio', 'KY': 'Kentucky', 'AS': 'American Samoa', 'NV': 'Nevada', 'WY': 'Wyoming', 'NA': 'National',\n",
    "              'AL': 'Alabama', 'MD': 'Maryland', 'AK': 'Alaska', 'UT': 'Utah', 'OR': 'Oregon', 'MT': 'Montana', 'IL': 'Illinois',\n",
    "              'TN': 'Tennessee', 'DC': 'District of Columbia', 'VT': 'Vermont', 'ID': 'Idaho', 'AR': 'Arkansas', 'ME': 'Maine', \n",
    "              'WA': 'Washington', 'HI': 'Hawaii', 'WI': 'Wisconsin', 'MI': 'Michigan', 'IN': 'Indiana', 'NJ': 'New Jersey', \n",
    "              'AZ': 'Arizona','GU': 'Guam', 'MS': 'Mississippi', 'PR': 'Puerto Rico', 'NC': 'North Carolina', 'TX': 'Texas', \n",
    "              'SD': 'South Dakota', 'MP': 'Northern Mariana Islands', 'IA': 'Iowa', 'MO': 'Missouri', 'CT': 'Connecticut',\n",
    "              'WV': 'West Virginia', 'SC': 'South Carolina', 'LA': 'Louisiana', 'KS': 'Kansas', 'NY': 'New York', \n",
    "              'NE': 'Nebraska', 'OK': 'Oklahoma', 'FL': 'Florida', 'CA': 'California', 'CO': 'Colorado', 'PA': 'Pennsylvania',\n",
    "              'DE': 'Delaware', 'NM': 'New Mexico', 'RI': 'Rhode Island', 'MN': 'Minnesota', 'VI': 'Virgin Islands', \n",
    "              'NH': 'New Hampshire', 'MA': 'Massachusetts', 'GA': 'Georgia','ND': 'North Dakota', 'VA': 'Virginia'}\n",
    "    house_data = pd.read_csv('City_Zhvi_AllHomes.csv',\n",
    "                             encoding = \"ISO-8859-1\")\n",
    "    df = (house_data.drop(['RegionID', 'SizeRank', 'CountyName', 'Metro'], axis =1)\n",
    "              .set_index([house_data['State'].map(states), 'RegionName'])\n",
    "             .drop('State', axis =1))\n",
    "    for i in range(len(df.columns)-1):\n",
    "        if df.columns[i].split('-')[1] == '01':\n",
    "            df[df.columns[i].split('-')[0] + 'q1'] = 0\n",
    "        elif df.columns[i].split('-')[1] == '04':\n",
    "            df[df.columns[i].split('-')[0] + 'q2'] = 0\n",
    "        elif df.columns[i].split('-')[1] == '07':\n",
    "            df[df.columns[i].split('-')[0] + 'q3'] = 0\n",
    "        elif df.columns[i].split('-')[1] == '10':\n",
    "            df[df.columns[i].split('-')[0] + 'q4'] = 0\n",
    "    df[df.columns[276].split('-')[0] + 'q2'] = 0\n",
    "\n",
    "    \n",
    "    i = 0\n",
    "    while i < (len(df.loc[:,'1996-04':'2016-08'].columns)-5):\n",
    "        if df.columns[i+9].split('-')[1] == '01':\n",
    "            df[df.columns[i+9].split('-')[0] + 'q1'] = df.iloc[:, i+9:i+12].mean(axis=1)\n",
    "        if df.columns[i].split('-')[1] == '04':\n",
    "            df[df.columns[i].split('-')[0] + 'q2'] = df.iloc[:, i:i+3].mean(axis=1)\n",
    "        if df.columns[i+3].split('-')[1] == '07':\n",
    "            df[df.columns[i+3].split('-')[0] + 'q3'] = df.iloc[:, i+3:i+6].mean(axis=1)\n",
    "        if df.columns[i+6].split('-')[1] == '10':\n",
    "            df[df.columns[i+6].split('-')[0] + 'q4'] = df.iloc[:, i+6:i+9].mean(axis=1)  \n",
    "        i+=12\n",
    "    if df.columns[(len(df.iloc[0])-2)] == '2019-04':\n",
    "        df[df.columns[(len(data.iloc[0])-2)].split('-')[0] + 'q2'] = df.loc[:, df.columns[(len(data.iloc[0])-2)]:df.columns[(len(data.iloc[0])-1)]].mean(axis=1)\n",
    "    df = df.drop(df.loc[:, : '1999q4'], axis = 1)\n",
    "    df = df.replace('NaN', np.NaN)\n",
    "    df = df.drop(['2004q1q2'] , axis =1)\n",
    "    return df\n",
    "convert_housing_data_to_quarters()"
   ]
  },
  {
   "cell_type": "code",
   "execution_count": null,
   "metadata": {},
   "outputs": [],
   "source": [
    "def run_ttest():\n",
    "    import pandas as pd\n",
    "    import numpy as np\n",
    "    from scipy import stats\n",
    "\n",
    "    hdf = convert_housing_data_to_quarters()\n",
    "    start_index = hdf.columns.get_loc(get_recession_start())\n",
    "    bottom_index = hdf.columns.get_loc(get_recession_bottom())\n",
    "    hdf['Ratio'] = hdf.iloc[:, start_index - 1] / hdf.iloc[:, bottom_index]\n",
    "    hdf = pd.DataFrame(hdf.loc[:, 'Ratio'])\n",
    "    ul = get_list_of_university_towns()\n",
    "    ul = ul.set_index(['State', 'RegionName'])\n",
    "    univ_prices = pd.merge(hdf, ul, how=\"inner\", left_index=True, right_index=True)\n",
    "    non_univ = pd.merge(hdf, ul, how=\"outer\", left_index=True, right_index=True, indicator=True)\n",
    "    univ_prices = univ_prices.dropna()\n",
    "    non_univ = non_univ.dropna()\n",
    "    s, p = stats.ttest_ind(univ_prices['Ratio'], non_univ['Ratio'])\n",
    "    s2, p2 = stats.ttest_ind(non_univ['Ratio'], univ_prices['Ratio'])\n",
    "    ans = True, p, \"university town\"\n",
    "    return ans\n",
    "\n",
    "run_ttest()"
   ]
  }
 ],
 "metadata": {
  "kernelspec": {
   "display_name": "Python 3",
   "language": "python",
   "name": "python3"
  },
  "language_info": {
   "codemirror_mode": {
    "name": "ipython",
    "version": 3
   },
   "file_extension": ".py",
   "mimetype": "text/x-python",
   "name": "python",
   "nbconvert_exporter": "python",
   "pygments_lexer": "ipython3",
   "version": "3.7.3"
  }
 },
 "nbformat": 4,
 "nbformat_minor": 2
}
